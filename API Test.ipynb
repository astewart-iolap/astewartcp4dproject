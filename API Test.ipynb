{
    "cells": [
        {
            "cell_type": "code",
            "execution_count": null,
            "metadata": {
                "id": "1545e5ac-7b1d-49ee-9e10-833fb5b76460"
            },
            "outputs": [],
            "source": "# The code was removed by Watson Studio for sharing."
        },
        {
            "cell_type": "code",
            "execution_count": 1,
            "metadata": {
                "id": "6fedb272-db4d-4967-a0cb-a66f4592c866"
            },
            "outputs": [
                {
                    "name": "stdout",
                    "output_type": "stream",
                    "text": "/home/wsuser/work\n"
                }
            ],
            "source": "!pwd# @hidden_cell\n# The project token is an authorization token that is used to access project resources like data sources, connections, and used by platform APIs.\nfrom project_lib import Project\nproject = Project(project_id='7691a5b2-b71d-4b2d-bb52-5700f58bcb7a', project_access_token='p-2+IvTzMtsSJQZC2dPPNgEpAw==;vFyfNGZTEszZjvaURVdQ9g==:PVcLjMlmUXunMrMuRAHie69sUsjayhnZSUyZBVGQb4lRilCbWI+6OW2tJ8hhTlLrNPTIgcfV7Fur5kNtI8AjsmT4hkjfwnxWnQ==')\npc = project.project_context\n\nfrom ibm_watson_studio_lib import access_project_or_space\nwslib = access_project_or_space({'token':'p-2+IvTzMtsSJQZC2dPPNgEpAw==;vFyfNGZTEszZjvaURVdQ9g==:PVcLjMlmUXunMrMuRAHie69sUsjayhnZSUyZBVGQb4lRilCbWI+6OW2tJ8hhTlLrNPTIgcfV7Fur5kNtI8AjsmT4hkjfwnxWnQ=='})\n"
        },
        {
            "cell_type": "code",
            "execution_count": null,
            "metadata": {
                "id": "5bf50262-ed65-41b9-b62b-d71075632aee"
            },
            "outputs": [],
            "source": ""
        }
    ],
    "metadata": {
        "kernelspec": {
            "display_name": "Python 3.11",
            "language": "python",
            "name": "python3"
        },
        "language_info": {
            "codemirror_mode": {
                "name": "ipython",
                "version": 3
            },
            "file_extension": ".py",
            "mimetype": "text/x-python",
            "name": "python",
            "nbconvert_exporter": "python",
            "pygments_lexer": "ipython3",
            "version": "3.11.9"
        }
    },
    "nbformat": 4,
    "nbformat_minor": 4
}