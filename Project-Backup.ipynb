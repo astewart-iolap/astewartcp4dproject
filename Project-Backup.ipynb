{
    "cells": [
        {
            "cell_type": "markdown",
            "metadata": {},
            "source": "# Backup assets from a project and restore to the new one"
        },
        {
            "cell_type": "markdown",
            "metadata": {},
            "source": "This notebook contains steps and code to demonstrate support of backup and restore features in Cloud Pak for Data. \nIt contains steps and code to work with [`cpdctl`](https://github.com/IBM/cpdctl) CLI tool available in IBM GitHub repository. \nIt also introduces commands for working with assets, exporting them from a project, creating the new project and importing assets there.\n\nSome familiarity with Python is helpful. This notebook uses Python 3.7."
        },
        {
            "cell_type": "code",
            "execution_count": 7,
            "metadata": {
                "id": "ae354c56-19fa-4552-b10b-f85b83e28c99"
            },
            "outputs": [],
            "source": "import base64\nimport json\nimport os\nimport platform\nimport requests\nimport tarfile\nimport zipfile\nfrom IPython.display import display, HTML"
        },
        {
            "cell_type": "markdown",
            "metadata": {},
            "source": "## CPD Credentials\n**Note**: when running this notebook inside IBM Cloud Pak for Data (CP4D) cluster, cpdctl takes advantage of [zero-configuration mode](https://github.com/IBM/cpdctl#zero-configuration) which means it can connect to the CP4D without explicit configuration. In that case the cells below that set credential and URL variables as well as cells that run `cpdctl config ...` commands can be skipped."
        },
        {
            "cell_type": "code",
            "execution_count": 2,
            "metadata": {
                "id": "4e6fe0fc-270b-4473-a1c2-b708cdce6cca"
            },
            "outputs": [],
            "source": "CPD_USER_NAME = 'YOUR CPD USER NAME'\nCPD_USER_PASSWORD = 'YOUR CPD USER PASSWORD'\nCPD_URL = 'YOUR CPD CLUSTER URL'"
        },
        {
            "cell_type": "markdown",
            "metadata": {},
            "source": "### Install the latest version of `cpdctl`"
        },
        {
            "cell_type": "code",
            "execution_count": 8,
            "metadata": {
                "id": "5222a073-21ae-4dc5-b1ca-453557e8b1ba"
            },
            "outputs": [
                {
                    "data": {
                        "text/html": "<code>cpdctl</code> binary downloaded from: <a href=\"https://github.com/IBM/cpdctl/releases/download/v1.6.29/cpdctl_linux_amd64.tar.gz\">cpdctl_linux_amd64.tar.gz</a>",
                        "text/plain": "<IPython.core.display.HTML object>"
                    },
                    "metadata": {},
                    "output_type": "display_data"
                }
            ],
            "source": "PLATFORM = platform.system().lower()\nCPDCTL_ARCH = \"{}_amd64\".format(PLATFORM)\nCPDCTL_RELEASES_URL=\"https://api.github.com/repos/IBM/cpdctl/releases\"\nCWD = os.getcwd()\nPATH = os.environ['PATH']\nCPD_CONFIG = os.path.join(CWD, '.cpdctl.config.yml')\n\nresponse = requests.get(CPDCTL_RELEASES_URL)\nassets = response.json()[0]['assets']\nplatform_asset = next(a for a in assets if CPDCTL_ARCH in a['name'])\ncpdctl_url = platform_asset['url']\ncpdctl_file_name = platform_asset['name']\n\nresponse = requests.get(cpdctl_url, headers={'Accept': 'application/octet-stream'})\nwith open(cpdctl_file_name, 'wb') as f:\n    f.write(response.content)\n    \ndisplay(HTML('<code>cpdctl</code> binary downloaded from: <a href=\"{}\">{}</a>'.format(platform_asset['browser_download_url'], platform_asset['name'])))"
        },
        {
            "cell_type": "code",
            "execution_count": 9,
            "metadata": {
                "id": "7037d682-390e-40d7-9ef2-9e20823600f9"
            },
            "outputs": [],
            "source": "%%capture\n\n%env PATH={CWD}:{PATH}\n%env CPD_CONFIG={CPD_CONFIG}"
        },
        {
            "cell_type": "code",
            "execution_count": 10,
            "metadata": {
                "id": "30d01a1e-3e07-4b5f-9dc3-41f53b9834fc"
            },
            "outputs": [
                {
                    "name": "stdout",
                    "output_type": "stream",
                    "text": "cpdctl version: 1.6.29 (20240807144941)\n"
                }
            ],
            "source": "if cpdctl_file_name.endswith('tar.gz'):\n    with tarfile.open(cpdctl_file_name, \"r:gz\") as tar:\n        tar.extractall()\nelif cpdctl_file_name.endswith('zip'):\n    with zipfile.ZipFile(cpdctl_file_name, 'r') as zf:\n        zf.extractall()\n\nif CPD_CONFIG and os.path.exists(CPD_CONFIG):\n    os.remove(CPD_CONFIG)\n    \nversion_r = ! cpdctl version\nCPDCTL_VERSION = version_r.s\n\nprint(\"cpdctl version: {}\".format(CPDCTL_VERSION))"
        },
        {
            "cell_type": "markdown",
            "metadata": {},
            "source": "### Add CPD user and profile configuration"
        },
        {
            "cell_type": "markdown",
            "metadata": {},
            "source": "Add \"cpd_user\" user to the `cpdctl` configuration"
        },
        {
            "cell_type": "code",
            "execution_count": 6,
            "metadata": {
                "id": "e844ef16-0ed6-49dd-9dd7-a76d53574e3e"
            },
            "outputs": [],
            "source": "! cpdctl config user set cpd_user --username {CPD_USER_NAME} --password {CPD_USER_PASSWORD}"
        },
        {
            "cell_type": "markdown",
            "metadata": {},
            "source": "Add \"cpd\" profile to the `cpdctl` configuration"
        },
        {
            "cell_type": "code",
            "execution_count": 7,
            "metadata": {
                "id": "c60d0844-17c6-4eba-8328-1aee5ca27b2c"
            },
            "outputs": [],
            "source": "! cpdctl config profile set cpd --url {CPD_URL} --user cpd_user"
        },
        {
            "cell_type": "markdown",
            "metadata": {},
            "source": "List available profiles"
        },
        {
            "cell_type": "code",
            "execution_count": 1,
            "metadata": {
                "id": "035ee155-707b-4c92-8ae2-580906263d62"
            },
            "outputs": [
                {
                    "name": "stdout",
                    "output_type": "stream",
                    "text": "\u001b[1mName\u001b[0m   \u001b[1mType\u001b[0m      \u001b[1mUser\u001b[0m       \u001b[1mURL\u001b[0m                                              \u001b[1mCurrent\u001b[0m\r\n\u001b[36;1mcpd\u001b[0m    private   cpd_user   https://cpd-zen.apps.wp463case.cp.fyre.ibm.com   *\r\n"
                }
            ],
            "source": "! cpdctl config profile list"
        },
        {
            "cell_type": "markdown",
            "metadata": {},
            "source": "Switch the current profile"
        },
        {
            "cell_type": "code",
            "execution_count": 12,
            "metadata": {
                "id": "51bf66c0-5084-4ade-9be9-f2b9fd112976"
            },
            "outputs": [],
            "source": "! cpdctl config profile set prof-cp4dibmcloud --url https://dataplatform.cloud.ibm.com --apikey nnr6jXg387aa_ePdXps06Y1Gu9pPECYjQzsW0IMO85Rw --watson-studio-url https://api.dataplatform.cloud.ibm.com"
        },
        {
            "cell_type": "markdown",
            "metadata": {},
            "source": "List available projects in \"cpd\" profile"
        },
        {
            "cell_type": "code",
            "execution_count": 13,
            "metadata": {
                "id": "d381cc8e-ea7b-414b-8e40-f9299c8424e2"
            },
            "outputs": [
                {
                    "name": "stdout",
                    "output_type": "stream",
                    "text": "...\n\u001b[1mID\u001b[22m                                     \u001b[1mName\u001b[22m                 \u001b[1mCreated\u001b[22m                    \u001b[1mDescription\u001b[22m                                          \u001b[1mType\u001b[22m\n\u001b[36;1m0c6ca30b-a0e0-4968-aa76-216f2ffc6b0f\u001b[0;22m   XTest                2024-01-09T01:44:58.053Z                                                        wx\n\u001b[36;1m521b92c7-2ec4-4b80-9740-3100b6112ed2\u001b[0;22m   TEST_UC_Health       2024-04-30T16:12:59.404Z                                                        cpd\n\u001b[36;1mcb743be4-b3f1-4eb9-807d-eacc295dff2e\u001b[0;22m   TestUsers            2024-05-06T18:27:31.162Z                                                        cpd\n\u001b[36;1m839d8c8f-b65f-40d8-bb4c-74e03fa23ad5\u001b[0;22m   Secret_Server_Test   2024-06-24T19:21:24.989Z                                                        cpd\n\u001b[36;1m7691a5b2-b71d-4b2d-bb52-5700f58bcb7a\u001b[0;22m   astewart_test        2024-01-25T18:14:09.900Z                                                        cpd\n\u001b[36;1m0074cd78-180f-42f8-984c-e4bac97e53d9\u001b[0;22m   SRC_BetaRaven        2024-04-22T18:44:18.770Z                                                        cpd\n\u001b[36;1m5e1efa49-b66d-4f21-b8b8-bb2ec901121d\u001b[0;22m   UC_Health_TEST       2024-04-30T18:05:25.113Z                                                        cpd\n\u001b[36;1m72335a34-0846-4407-8f0f-4bece4afee0c\u001b[0;22m   SRC_Azure            2024-04-10T14:48:29.552Z   This project will hold all pipelines responsible \u2026   cpd\n\u001b[36;1m05525fae-1e1a-4f80-88f3-d5bc07c03e8b\u001b[0;22m   UC_Reproductive      2024-04-08T12:41:19.257Z                                                        cpd\n\u001b[36;1m1307d0e2-62dc-4ff3-92ae-b0e0d525df9a\u001b[0;22m   UC_Health            2024-03-18T18:48:13.881Z                                                        cpd\nNext token: 'g1AAAAHIeJzLYWBgYMtgTmFQSUlKzi9KdUhJMjTWy0zK1U1OKa4wMDDVS87JL01JzCvRy0styQGqZkpSAJJJ9v___8_KYHJz4CnmYQAJMDAeCCbRIAeQvniYQRoaTw9ADNoqQqJBCSB99XAXlaQuABvEsLOaNIPyWEBeWQCkgGbthxhW1gn13rU55Bh2AGLYfbBhQjINUMPe7SDHsAcQwyDelDMJgHiT8U5qFgBKjIu5'\n"
                }
            ],
            "source": "! cpdctl project list"
        },
        {
            "cell_type": "markdown",
            "metadata": {},
            "source": "### Access the selected project assets"
        },
        {
            "cell_type": "markdown",
            "metadata": {},
            "source": "Get the first project ID and show details"
        },
        {
            "cell_type": "code",
            "execution_count": 20,
            "metadata": {
                "id": "12fa06a1-21df-4b69-8614-bfef98edad9e",
                "scrolled": true
            },
            "outputs": [],
            "source": "result = ! cpdctl project list --output json --raw-output --jmes-query 'resources[0].metadata.guid'\nPROJECT_ID = '72335a34-0846-4407-8f0f-4bece4afee0c'"
        },
        {
            "cell_type": "code",
            "execution_count": 21,
            "metadata": {
                "id": "77185ad5-0417-4d60-8829-f2b6f9e1e6cb"
            },
            "outputs": [
                {
                    "name": "stdout",
                    "output_type": "stream",
                    "text": "...\n\u001b[1m\u001b[22m               \u001b[1m\u001b[22m\n\u001b[36;1mID:\u001b[0;22m            72335a34-0846-4407-8f0f-4bece4afee0c\n\u001b[36;1mName:\u001b[0;22m          SRC_Azure\n\u001b[36;1mCreated:\u001b[0;22m       2024-04-10T14:48:29.552Z\n\u001b[36;1mDescription:\u001b[0;22m   This project will hold all pipelines responsible for loading source data from CF Azure databases into DB2\n\u001b[36;1mType:\u001b[0;22m          cpd\n"
                }
            ],
            "source": "! cpdctl project get --project-id {PROJECT_ID}"
        },
        {
            "cell_type": "code",
            "execution_count": 22,
            "metadata": {
                "id": "561da1ea-5c4b-45f0-a01b-e77664f63c07"
            },
            "outputs": [
                {
                    "name": "stdout",
                    "output_type": "stream",
                    "text": "'SRC_Azure' project ID is: 72335a34-0846-4407-8f0f-4bece4afee0c\n"
                }
            ],
            "source": "result = ! cpdctl project get --project-id {PROJECT_ID} --output json --jmes-query \"entity.name\" --raw-output\nPROJECT_NAME = result.s\nprint(\"'{}' project ID is: {}\".format(PROJECT_NAME, PROJECT_ID))"
        },
        {
            "cell_type": "markdown",
            "metadata": {},
            "source": "List assets in the project"
        },
        {
            "cell_type": "code",
            "execution_count": 29,
            "metadata": {
                "id": "372a4af2-ca4c-425e-bf05-5b554d35b92a"
            },
            "outputs": [
                {
                    "name": "stdout",
                    "output_type": "stream",
                    "text": "...\n\u001b[1mID\u001b[22m                                     \u001b[1mName\u001b[22m                                            \u001b[1mCreated\u001b[22m                    \u001b[1mDescription\u001b[22m                                          \u001b[1mType\u001b[22m                 \u001b[1mState\u001b[22m       \u001b[1mTags\u001b[22m   \u001b[1mSize\u001b[22m\n\u001b[36;1mc8055133-9947-45b8-9a60-ff3065a8caa8\u001b[0;22m   DS_PC_HDR_BOARS                                 2024-04-29T23:53:45.000Z   caredata.HDR_BOARS &amp;amp;amp;gt;  CF_PROD_PIGC\u2026   data_intg_flow       available   []     32464\n\u001b[36;1m4e00737f-df31-4259-88dc-a7685b54332a\u001b[0;22m   DS_PC_SITES                                     2024-04-29T23:54:03.000Z   caredata.SITES &amp;amp;amp;amp;gt; CF_PROD_PIGCH\u2026   data_intg_flow       available   []     28778\n\u001b[36;1m5debdcbb-3d4d-4ba6-acde-9fd5223bc3ae\u001b[0;22m   DS_MF_CFT_LOCATION                              2024-04-29T23:53:45.000Z   dbo.CFT_LOCATION&amp;amp;amp;gt; CF_PROD_MOBILEFR\u2026   data_intg_flow       available   []     24606\n\u001b[36;1m758c124e-9578-4717-8c3b-1f2bc6d1c34a\u001b[0;22m   DS_MF_CFT_DRUGS                                 2024-04-29T23:53:45.000Z   dbo.CFT_DRUGS &amp;amp;gt; CF_PROD_MOBILEFRAME.CF\u2026   data_intg_flow       available   []     60708\n\u001b[36;1m8f9807b4-f1e9-4bc1-b418-c9763a268164\u001b[0;22m   job run                                         2024-07-16T23:10:54.000Z                                                        job_run              available   []     0\n\u001b[36;1m7821a6d1-174d-4969-843c-8f2a476ff6f2\u001b[0;22m   job run                                         2024-07-16T23:11:16.000Z                                                        job_run              available   []     0\n\u001b[36;1ma6dc9d74-b9af-49fe-bca8-b4f3cdc04703\u001b[0;22m   job run                                         2024-07-16T23:16:48.000Z                                                        job_run              available   []     0\n\u001b[36;1mc853fbac-aa03-4d6c-bcda-4d3994542351\u001b[0;22m   job run                                         2024-07-16T23:24:14.000Z                                                        job_run              available   []     0\n\u001b[36;1m1294870b-e805-43da-a386-94f8067bf740\u001b[0;22m   job run                                         2024-07-16T23:26:01.000Z                                                        job_run              available   []     0\n\u001b[36;1maa0962c0-9084-412c-a819-03246d4219a7\u001b[0;22m   job run                                         2024-07-17T03:08:14.000Z                                                        job_run              available   []     0\n\u001b[36;1mb6d97b4e-6001-4202-8206-506385462a8b\u001b[0;22m   job run                                         2024-07-17T04:57:55.000Z                                                        job_run              available   []     0\n\u001b[36;1m3963555a-00f0-473d-9028-713d70a4d970\u001b[0;22m   job run                                         2024-07-17T05:44:08.000Z                                                        job_run              available   []     0\n\u001b[36;1mefdd6172-a627-4f9d-896d-39aa0c112947\u001b[0;22m   job run                                         2024-07-17T06:29:09.000Z                                                        job_run              available   []     0\n\u001b[36;1m2fb9c011-bfa1-4413-8d8d-f363921e32b3\u001b[0;22m   WEEKLY WEANINGS DELTA JOB                       2024-07-22T04:29:00.000Z                                                        job                  available   []     0\n\u001b[36;1m70f8d613-0aaf-4225-a869-e875aec28353\u001b[0;22m   job run                                         2024-06-12T20:00:32.000Z                                                        job_run              available   []     0\n\u001b[36;1m2e185aed-ddeb-42ce-a359-e26cbc8b0610\u001b[0;22m   DS_MF_ARCHIVE_ANIMALEVENTS_TEST                 2024-06-12T21:31:42.000Z   archive.CFT_ANIMALEVENTS &amp;amp;amp;amp;amp;amp\u2026   data_intg_flow       available   []     55232\n\u001b[36;1mf9169cf4-8da6-4601-b624-6a4356e6db61\u001b[0;22m   LOAD_PIGCHAMP                                   2024-04-23T18:05:58.000Z                                                        directory_asset      available   []     0\n\u001b[36;1m36c305dd-6bf1-4679-abb8-988a2aec8842\u001b[0;22m   DS_MF_CFT_BREEDER.DataStage job                 2024-04-23T18:03:12.000Z                                                        job                  available   []     0\n\u001b[36;1ma09f3013-97a6-4cb0-8e72-f6c0ffdf9462\u001b[0;22m   DS_PC_COMMON_LOOKUPS.DataStage job              2024-04-23T18:03:11.000Z                                                        job                  available   []     0\n\u001b[36;1mde686bb9-f2ff-43bb-b253-b33992702833\u001b[0;22m   DS_MF_CFT_TREATMENTS.DataStage job              2024-04-23T18:03:11.000Z                                                        job                  available   []     0\n\u001b[36;1m2736c6fb-bb43-401c-a2ac-5325ea1a4243\u001b[0;22m   DS_PC_EV_SALES.DataStage job                    2024-04-23T18:03:12.000Z                                                        job                  available   []     0\n\u001b[36;1m5afb9e18-5dae-4f76-8c44-7486aa8cc375\u001b[0;22m   job run                                         2024-05-21T00:19:15.000Z                                                        job_run              available   []     0\n\u001b[36;1m521da2b8-67e0-4b7e-8b15-9c3a31d6db00\u001b[0;22m   job run                                         2024-05-21T03:59:26.000Z                                                        job_run              available   []     0\n\u001b[36;1m047ffd2b-37fb-4ec1-8786-54726d55c0e7\u001b[0;22m   DS_MF_CFT_GENETICS.DataStage job                2024-04-23T18:03:13.000Z                                                        job                  available   []     0\n\u001b[36;1mab30f76d-7ba7-46d6-8f55-f628c14aaa69\u001b[0;22m   DS_PC_EV_FOSTERS.DataStage job                  2024-04-30T00:24:16.000Z                                                        job                  available   []     0\n\u001b[36;1mbb869c68-62f0-46d6-a89d-ea93e1f0bbba\u001b[0;22m   DS_PC_COMMON_LOOKUPS                            2024-04-29T23:54:32.000Z   caredata.COMMON_LOOKUPS &amp;amp;amp;gt; CF_PROD_\u2026   data_intg_flow       available   []     33946\n\u001b[36;1m0527ef79-4aa9-4633-b912-4d57e9ed57bd\u001b[0;22m   DS_PC_EV_PREG_CHECKS                            2024-04-29T23:53:45.000Z   caredata.EV_PREG_CHECKS &amp;amp;gt; CF_PROD_PIGC\u2026   data_intg_flow       available   []     20715\n\u001b[36;1mbfd5e2ea-7332-4d9c-84f1-3c15062c7fad\u001b[0;22m   job run                                         2024-04-30T00:46:43.000Z                                                        job_run              available   []     0\n\u001b[36;1m19a6f4fb-d10d-4049-a9fb-1dd1f2f8d3ee\u001b[0;22m   LOAD_DM_SOW                                     2024-04-30T00:58:51.000Z                                                        directory_asset      available   []     0\n\u001b[36;1m03528e2e-6c7e-4d7b-9d31-1944181573ca\u001b[0;22m   job run                                         2024-04-30T14:53:30.000Z                                                        job_run              available   []     0\n\u001b[36;1me032674c-389f-484e-a481-09847f483ddd\u001b[0;22m   job run                                         2024-05-01T18:29:52.000Z                                                        job_run              available   []     0\n\u001b[36;1m9ac1fccd-56c2-49bb-a544-286162c02647\u001b[0;22m   job run                                         2024-05-01T19:04:18.000Z                                                        job_run              available   []     0\n\u001b[36;1m92cdb9dd-38f3-4fa7-86bd-822662959a8b\u001b[0;22m   job run                                         2024-05-01T19:38:08.000Z                                                        job_run              available   []     0\n\u001b[36;1mea423c35-e541-4427-b573-7562a02487fe\u001b[0;22m   job run                                         2024-05-02T00:21:32.000Z                                                        job_run              available   []     0\n\u001b[36;1m15acd933-e5bf-4443-af35-a684e76ea29e\u001b[0;22m   job run                                         2024-05-02T03:56:54.000Z                                                        job_run              available   []     0\n\u001b[36;1m32d5de8f-84fc-4553-a10d-476d1d162bc0\u001b[0;22m   job run                                         2024-05-03T02:05:23.000Z                                                        job_run              available   []     0\n\u001b[36;1m3f456329-a931-471f-80cc-db114e2bbb2f\u001b[0;22m   PROD01_CFApp_PigManagement_IP                   2024-06-07T15:22:47.000Z                                                        connection           available   []     0\n\u001b[36;1m99c9dfb1-1c7b-4f54-9d7a-b6361f876c8a\u001b[0;22m   DS_PC_BH_EVENTS                                 2024-04-29T23:54:18.000Z   caredata.BH_EVENTS &amp;amp;amp;amp;amp;amp;amp;g\u2026   data_intg_flow       available   []     55108\n\u001b[36;1m7cae8217-b5a3-4edd-9530-3f7d2f1ec605\u001b[0;22m   DS_SA_CFTPMGRADEQTY.DataStage job               2024-06-28T18:41:22.000Z                                                        job                  available   []     0\n\u001b[36;1meb88b9fc-c5dc-4af1-a8ff-b34a45f341f4\u001b[0;22m   DS_SA_CFTPIGRADECATTYPE.DataStage job           2024-06-28T18:49:02.000Z                                                        job                  available   []     0\n\u001b[36;1m82bc50fb-7119-49e8-90b7-42b0f7594270\u001b[0;22m   DS_SA_CFTPIGSALE.DataStage job                  2024-06-28T18:59:42.000Z                                                        job                  available   []     0\n\u001b[36;1m7e4329a3-2c69-40a2-b82c-686517c1265d\u001b[0;22m   job run                                         2024-06-28T19:02:50.000Z                                                        job_run              available   []     0\n\u001b[36;1mbef0c379-9a08-447d-9ba7-f5ace558c74c\u001b[0;22m   job run                                         2024-07-30T02:20:46.000Z                                                        job_run              available   []     0\n\u001b[36;1m93e3769c-df7b-4160-b88f-54fdd94623c4\u001b[0;22m   job run                                         2024-07-30T02:14:05.000Z                                                        job_run              available   []     0\n\u001b[36;1m9d06db71-4cc8-4f6c-b737-ab07944eea20\u001b[0;22m   job run                                         2024-07-30T02:23:48.000Z                                                        job_run              available   []     0\n\u001b[36;1m364930be-509a-4282-a2b2-d30de6558821\u001b[0;22m   job run                                         2024-07-30T02:27:57.000Z                                                        job_run              available   []     0\n\u001b[36;1m9a4f89ca-696e-4d90-aee3-a81acfc6376f\u001b[0;22m   job run                                         2024-07-30T03:21:18.000Z                                                        job_run              available   []     0\n\u001b[36;1me5fdf56e-8663-4fb0-899d-49fe05f655b8\u001b[0;22m   job run                                         2024-07-30T03:48:41.000Z                                                        job_run              available   []     0\n\u001b[36;1m30949a1d-660c-40f2-8cda-70451838e2cd\u001b[0;22m   job run                                         2024-07-30T04:19:19.000Z                                                        job_run              available   []     0\n\u001b[36;1mb8d7b38e-6e73-426f-8cd5-005f46695502\u001b[0;22m   job run                                         2024-07-30T04:14:57.000Z                                                        job_run              available   []     0\n\u001b[36;1m9a2c7f67-01fa-41d5-8a39-5fa0e3894744\u001b[0;22m   job run                                         2024-07-30T04:31:33.000Z                                                        job_run              available   []     0\n\u001b[36;1m113f37e4-d39c-4dd8-a8a3-50b9008714d9\u001b[0;22m   job run                                         2024-07-30T04:33:59.000Z                                                        job_run              available   []     0\n\u001b[36;1m87689ee4-4bd0-48de-87de-f1d01175260d\u001b[0;22m   job run                                         2024-07-30T05:04:33.000Z                                                        job_run              available   []     0\n\u001b[36;1maac3e207-205b-423f-833c-6954fb78993f\u001b[0;22m   PIP_MF_DATA_REFRESH_DAILY_0730                  2024-07-30T05:56:17.000Z                                                        job                  available   []     0\n\u001b[36;1m4abad624-541a-413c-9fc0-86c0dc572f25\u001b[0;22m   job run                                         2024-07-30T06:06:03.000Z                                                        job_run              available   []     0\n\u001b[36;1m67572129-8841-4141-8149-7df507072a5a\u001b[0;22m   job run                                         2024-07-30T06:59:58.000Z                                                        job_run              available   []     0\n\u001b[36;1m31a7dab8-a55c-4d7f-a777-e7ef53bd1f9c\u001b[0;22m   DS_MF_CFT_ANIMAL                                2024-04-29T23:53:45.000Z   dbo.CFT_ANIMAL &amp;amp;amp;amp;amp;amp;amp;gt; C\u2026   data_intg_flow       available   []     31752\n\u001b[36;1m30cf8f7c-7eed-403e-a07b-e80778665c7e\u001b[0;22m   DS_MF_CFT_ANIMALEVENTS.DataStage job            2024-04-23T18:03:11.000Z                                                        job                  available   []     0\n\u001b[36;1m7f3464f1-749b-4f10-a25f-83974e817a89\u001b[0;22m   DS_MF_CFT_ANIMALTAG.DataStage job               2024-04-23T18:03:13.000Z                                                        job                  available   []     0\n\u001b[36;1m0350266b-ad2f-41dd-9910-97c0aac3396f\u001b[0;22m   job run                                         2024-08-01T12:20:40.000Z                                                        job_run              available   []     0\n\u001b[36;1m1fa30484-5715-433a-8e63-b6b69ed61ec4\u001b[0;22m   job run                                         2024-08-01T12:17:26.000Z                                                        job_run              available   []     0\n\u001b[36;1me5343388-2a0d-4394-b979-832c95dca37b\u001b[0;22m   job run                                         2024-08-01T12:23:50.000Z                                                        job_run              available   []     0\n\u001b[36;1mc3ec8639-c250-4ca9-b2fe-6c17c210d98d\u001b[0;22m   job run                                         2024-08-01T13:05:34.000Z                                                        job_run              available   []     0\n\u001b[36;1m2eb8eb9f-2763-4086-9648-11ecd6b46d9c\u001b[0;22m   job run                                         2024-08-01T12:51:58.000Z                                                        job_run              available   []     0\n\u001b[36;1m03abf470-c060-4d0f-851f-ccef9d20197f\u001b[0;22m   job run                                         2024-08-01T13:34:17.000Z                                                        job_run              available   []     0\n\u001b[36;1m77932680-13e8-408c-b2c6-386b86532fa8\u001b[0;22m   job run                                         2024-08-01T13:22:28.000Z                                                        job_run              available   []     0\n\u001b[36;1m7b7c91fd-f58f-4688-bd93-f404b884d526\u001b[0;22m   job run                                         2024-08-01T13:27:43.000Z                                                        job_run              available   []     0\n\u001b[36;1mf10665b8-f5fb-4da5-be3b-db132d9c65f5\u001b[0;22m   PIP_PC_DATA_REFRESH_DAILY_JOB                   2024-08-01T18:43:00.000Z                                                        job                  available   []     0\n\u001b[36;1m76064643-b247-4358-b347-04ec3114dac3\u001b[0;22m   job run                                         2024-08-02T14:22:33.000Z                                                        job_run              available   []     0\n\u001b[36;1mb6b3ed00-81cd-427c-be77-2c606cc77d43\u001b[0;22m   job run                                         2024-08-02T13:51:40.000Z                                                        job_run              available   []     0\n\u001b[36;1m1094a44a-ced3-4384-be8e-6598132c113d\u001b[0;22m   job run                                         2024-08-02T13:55:44.000Z                                                        job_run              available   []     0\n\u001b[36;1m3a8da419-4b14-4b07-bbcb-317ff25a62c6\u001b[0;22m   job run                                         2024-08-02T14:07:31.000Z                                                        job_run              available   []     0\n\u001b[36;1m9f2a08fa-f78b-44bd-931b-50a03f74f610\u001b[0;22m   job run                                         2024-08-02T14:09:50.000Z                                                        job_run              available   []     0\n\u001b[36;1m7d10dd21-989f-4a12-b1ff-2d04e6bab861\u001b[0;22m   job run                                         2024-08-02T14:17:18.000Z                                                        job_run              available   []     0\n\u001b[36;1mf99f6d9d-ea1c-448d-b7fa-5caa3cad25ad\u001b[0;22m   job run                                         2024-08-07T11:59:01.000Z                                                        job_run              available   []     0\n\u001b[36;1m50eebc9d-59a2-48a4-9f1d-83210b41950c\u001b[0;22m   job run                                         2024-08-07T12:00:27.000Z                                                        job_run              available   []     0\n\u001b[36;1m5bb62214-b05a-40c9-a3a4-dcb0f029e533\u001b[0;22m   job run                                         2024-08-07T12:00:27.000Z                                                        job_run              available   []     0\n\u001b[36;1m10b45401-b128-42ca-9a10-a146674c0490\u001b[0;22m   job run                                         2024-08-07T11:59:00.000Z                                                        job_run              available   []     0\n\u001b[36;1m6b81e2d6-2c52-405e-ae22-50d210a1a95c\u001b[0;22m   job run                                         2024-08-07T12:15:02.000Z                                                        job_run              available   []     0\n\u001b[36;1ma6f223b8-5043-462f-ac33-4e1f1047a1dc\u001b[0;22m   job run                                         2024-08-07T12:17:28.000Z                                                        job_run              available   []     0\n\u001b[36;1mf025bfb7-afd0-4d6a-a975-705c2159708c\u001b[0;22m   job run                                         2024-08-07T12:41:27.000Z                                                        job_run              available   []     0\n\u001b[36;1m84630b11-98ab-45ff-aee7-f84491fbc457\u001b[0;22m   job run                                         2024-08-07T12:41:41.000Z                                                        job_run              available   []     0\n\u001b[36;1me50020af-a87d-4714-a676-315d2f7b02e7\u001b[0;22m   job run                                         2024-08-07T12:51:56.000Z                                                        job_run              available   []     0\n\u001b[36;1m1cab4876-7ec0-44d1-bd75-2e2b68e1838d\u001b[0;22m   job run                                         2024-08-07T12:51:32.000Z                                                        job_run              available   []     0\n\u001b[36;1m36864c3f-c68a-466e-81c0-544c3d1ea01e\u001b[0;22m   job run                                         2024-08-07T13:18:32.000Z                                                        job_run              available   []     0\n\u001b[36;1md834eca8-073d-46fd-a27f-297473e94792\u001b[0;22m   job run                                         2024-08-07T13:13:36.000Z                                                        job_run              available   []     0\n\u001b[36;1mf1e3e21b-b637-4f8a-97fb-296e55aef443\u001b[0;22m   job run                                         2024-08-07T13:23:08.000Z                                                        job_run              available   []     0\n\u001b[36;1mfa6be48c-d263-4988-a804-69014c0f30e5\u001b[0;22m   job run                                         2024-08-08T11:42:11.000Z                                                        job_run              available   []     0\n\u001b[36;1m9dcb6e5a-ed32-4185-bde5-e7e725ebd977\u001b[0;22m   job run                                         2024-08-08T11:59:57.000Z                                                        job_run              available   []     0\n\u001b[36;1ma2562cda-6d55-41bd-9f0a-3b2202b7995f\u001b[0;22m   DS_MF_CFT_AT_DELTA.DataStage job                2024-08-08T12:37:46.000Z                                                        job                  available   []     0\n\u001b[36;1md26fea08-b07b-4426-8933-9844f198eb99\u001b[0;22m   job run                                         2024-08-08T12:37:50.000Z                                                        job_run              available   []     0\n\u001b[36;1m9110e55e-44de-4629-8adf-415d8d219057\u001b[0;22m   DS_MF_CFT_AE_DELTA                              2024-08-08T11:24:06.000Z   dbo.CFT_ANIMALEVENTS &amp;amp;amp;amp;amp;amp;amp\u2026   data_intg_flow       available   []     105732\n\u001b[36;1m7b05c67e-4460-4f23-9d32-5dbb69bf4f3b\u001b[0;22m   DS_MF_A_DELTA                                   2024-08-08T12:27:55.000Z   dbo.CFT_ANIMALEVENTS &amp;amp;amp;amp;amp;amp;amp\u2026   data_intg_flow       available   []     57514\n\u001b[36;1m2c7bf9c5-9e8f-4679-976a-102bcae4ac74\u001b[0;22m   job run                                         2024-08-08T12:42:22.000Z                                                        job_run              available   []     0\n\u001b[36;1maab9d092-ed16-45f7-8c85-07cff56c6235\u001b[0;22m   job run                                         2024-08-08T14:01:35.000Z                                                        job_run              available   []     0\n\u001b[36;1m98bdf490-ba5e-4f73-889a-5fc3e65911b4\u001b[0;22m   job run                                         2024-08-08T14:10:32.000Z                                                        job_run              available   []     0\n\u001b[36;1me7f7bdd2-1314-4db8-8b4e-f91ab10e33e6\u001b[0;22m   job run                                         2024-08-08T14:18:37.000Z                                                        job_run              available   []     0\n\u001b[36;1m8da04a3c-82b5-4fb4-b70f-218ae347fac0\u001b[0;22m   job run                                         2024-08-08T14:21:46.000Z                                                        job_run              available   []     0\n\u001b[36;1m107f50cd-9e1f-4b50-91de-e3fbb2a7a90b\u001b[0;22m   job run                                         2024-08-08T14:18:29.000Z                                                        job_run              available   []     0\n\u001b[36;1m2ca9834d-57a9-4919-9f12-e3b22de37bd1\u001b[0;22m   LOAD_MOBILEFRAME                                2024-04-23T18:06:17.000Z                                                        directory_asset      available   []     0\n\u001b[36;1m0ac85ba7-7b6f-4fc6-9195-9328dcd478f1\u001b[0;22m   DS_PC_BREEDING_COMPANIES.DataStage job          2024-04-23T18:03:11.000Z                                                        job                  available   []     0\n\u001b[36;1m38e046e0-1922-45ec-8581-c1acd528469a\u001b[0;22m   DS_MF_CFT_EVENTTYPE.DataStage job               2024-04-23T18:03:12.000Z                                                        job                  available   []     0\n\u001b[36;1mca7cad19-e23f-4621-91ba-329d15d63e53\u001b[0;22m   DS_PC_BH_IDENTITIES.DataStage job               2024-04-23T18:03:12.000Z                                                        job                  available   []     0\n\u001b[36;1m6c8ebb45-3799-4a34-a6ac-471398cfb7f9\u001b[0;22m   DS_PC_EV_WEANINGS.DataStage job                 2024-04-30T00:24:16.000Z                                                        job                  available   []     0\n\u001b[36;1md42bb7ed-1667-4d90-a549-1903454e47ce\u001b[0;22m   DS_MF_CFT_DRUGS.DataStage job                   2024-04-23T18:03:13.000Z                                                        job                  available   []     0\n\u001b[36;1m7842cbfd-a14b-42ce-b495-3053a7f7bf1a\u001b[0;22m   DS_PC_EV_DEATHS.DataStage job                   2024-04-23T18:03:13.000Z                                                        job                  available   []     0\n\u001b[36;1mbd7c1cf9-3892-4838-8625-08c4aa1952a5\u001b[0;22m   DS_PC_EV_FARROWINGS.DataStage job               2024-04-30T00:24:16.000Z                                                        job                  available   []     0\n\u001b[36;1m314fd622-a719-4101-b262-fb9ef4d93825\u001b[0;22m   DS_PC_FARMS.DataStage job                       2024-04-23T18:03:11.000Z                                                        job                  available   []     0\n\u001b[36;1mb78dce7a-f154-461a-908e-291f0fe6f97e\u001b[0;22m   DS_PC_EV_PIGLET_LOSSES                          2024-04-29T23:54:19.000Z   caredata.PIGLET_LOSSES; CF_PROD_PIGCHAMP.PIGLET_L\u2026   data_intg_flow       available   []     35961\n\u001b[36;1m65dbc863-08d8-4073-a2a1-cd8922f57547\u001b[0;22m   DS_PC_FARM_COMPANIES.DataStage job              2024-04-30T00:42:42.000Z                                                        job                  available   []     0\n\u001b[36;1m614a2e7a-c80e-46fb-a899-09ef3643eb5d\u001b[0;22m   MIPROD_MobileFrame                              2024-04-10T15:01:19.000Z                                                        connection           available   []     0\n\u001b[36;1md3ac9e03-46ad-40df-94ea-910ab6585837\u001b[0;22m   Db2 Warehouse-cf                                2024-04-10T15:01:19.000Z                                                        connection           available   []     0\n\u001b[36;1m2b8aa664-df6e-44d9-8f00-92a1895a5fc9\u001b[0;22m   job run                                         2024-05-01T17:23:06.000Z                                                        job_run              available   []     0\n\u001b[36;1m55d1dbce-d414-4f84-aca6-c3f4dba83b28\u001b[0;22m   job run                                         2024-05-01T19:55:13.000Z                                                        job_run              available   []     0\n\u001b[36;1md2bfc325-f3a9-4c97-8f31-61488bc294da\u001b[0;22m   job run                                         2024-05-01T20:38:55.000Z                                                        job_run              available   []     0\n\u001b[36;1me4f0af5c-370d-406b-87d1-6744458a4d7f\u001b[0;22m   job run                                         2024-05-01T21:45:10.000Z                                                        job_run              available   []     0\n\u001b[36;1m2d95e527-178b-4f3b-bf8f-dd382bdeebac\u001b[0;22m   job run                                         2024-05-01T21:59:19.000Z                                                        job_run              available   []     0\n\u001b[36;1me336d9ab-7318-4bb8-8f74-88c94179c9ee\u001b[0;22m   job run                                         2024-05-02T02:07:36.000Z                                                        job_run              available   []     0\n\u001b[36;1mbfa9d379-227d-44a4-89a0-295307aadb4e\u001b[0;22m   job run                                         2024-05-02T02:41:12.000Z                                                        job_run              available   []     0\n\u001b[36;1m7d53cd6c-109a-4cf9-85c6-cd139a8a6aa6\u001b[0;22m   job run                                         2024-05-02T19:41:00.000Z                                                        job_run              available   []     0\n\u001b[36;1m2bff19ee-ae56-42ee-aa92-8ca0ee666c4f\u001b[0;22m   job run                                         2024-05-02T19:42:06.000Z                                                        job_run              available   []     0\n\u001b[36;1m3f8d556b-96be-42ce-9cb4-3ecea46ea8c0\u001b[0;22m   job run                                         2024-05-02T23:21:51.000Z                                                        job_run              available   []     0\n\u001b[36;1mf42c9bcd-c91e-4b8c-a59d-bd53e73a9ad8\u001b[0;22m   job run                                         2024-05-21T00:32:36.000Z                                                        job_run              available   []     0\n\u001b[36;1m136d1de0-578f-4c41-b25c-3037b91ca856\u001b[0;22m   job run                                         2024-05-21T02:48:48.000Z                                                        job_run              available   []     0\n\u001b[36;1m2d087636-ef2c-4145-b28d-d745892f9822\u001b[0;22m   job run                                         2024-05-21T03:30:59.000Z                                                        job_run              available   []     0\n\u001b[36;1m35e70f9c-a0e3-4b60-aad8-8fef9466cfdf\u001b[0;22m   job run                                         2024-05-21T04:48:49.000Z                                                        job_run              available   []     0\n\u001b[36;1mcc6a20ab-76d8-482d-ab6c-40c386235be1\u001b[0;22m   job run                                         2024-05-22T16:22:00.000Z                                                        job_run              available   []     0\n\u001b[36;1m88cb6d41-838f-4237-8739-a67df09b8129\u001b[0;22m   DS_MF_CFT_CONFINEMENT.DataStage job             2024-06-12T20:00:22.000Z                                                        job                  available   []     0\n\u001b[36;1m33724e14-c682-48ef-9320-d139db78406d\u001b[0;22m   DS_MF_CFT_GENETICS                              2024-04-29T23:54:19.000Z   dbo.CFT_GENETICS &amp;amp;amp;gt; CF_PROD_MOBILEF\u2026   data_intg_flow       available   []     49613\n\u001b[36;1mc5d0945c-e5de-4767-abba-2e4ad2ac63d5\u001b[0;22m   DS_MF_CFT_EVENTTYPE                             2024-04-29T23:54:15.000Z   dbo.CFT_EVENTTYPE &amp;amp;amp;gt; CF_PROD_MOBILE\u2026   data_intg_flow       available   []     25957\n\u001b[36;1m7a3b795f-753c-4586-91fc-5abcef588b18\u001b[0;22m   DS_MF_CFT_TREATMENTS                            2024-04-29T23:54:02.000Z   dbo.CFT_TREATMENTS&amp;amp;gt; CF_PROD_MOBILEFRAM\u2026   data_intg_flow       available   []     43234\n\u001b[36;1mdc3255ba-5135-4264-94b7-859d86d33a91\u001b[0;22m   job run                                         2024-07-16T23:10:50.000Z                                                        job_run              available   []     0\n\u001b[36;1mb3844437-f093-4f9d-98a4-7ed699c416a0\u001b[0;22m   job run                                         2024-07-16T23:11:01.000Z                                                        job_run              available   []     0\n\u001b[36;1m8cd2cac4-e8f7-48c0-832d-2206c1330126\u001b[0;22m   job run                                         2024-07-16T23:11:52.000Z                                                        job_run              available   []     0\n\u001b[36;1m8d81b7e3-bbc0-4541-9021-5e9ca5a7f6c1\u001b[0;22m   DS_MF_CFT_FARM                                  2024-04-29T23:53:45.000Z   dbo.CFT_FARM &amp;amp;gt; CF_PROD_MOBILEFRAME.CFT\u2026   data_intg_flow       available   []     45457\n\u001b[36;1mf9068d35-e621-4d55-b5a0-b87714a6cc7b\u001b[0;22m   DS_PC_GENETICS                                  2024-07-17T00:06:58.000Z   caredata.CONDITIONS; CF_PROD_PIGCHAMP.CONDITIONS     data_intg_flow       available   []     29609\n\u001b[36;1m\u001b[0;22m                                                                                                                  \u2026                                                                                            \n\u001b[36;1m8f6480c3-799c-47a8-b309-e2a083eae469\u001b[0;22m   DS_PC_GENETICS.DataStage job                    2024-07-17T00:13:02.000Z                                                        job                  available   []     0\n\u001b[36;1mf9c15d70-9bcb-400f-b0d1-c4770557a9e7\u001b[0;22m   job run                                         2024-07-16T23:55:17.000Z                                                        job_run              available   []     0\n\u001b[36;1m2c4f2c41-6400-4261-8571-d5acb43f03c3\u001b[0;22m   job run                                         2024-07-17T00:56:58.000Z                                                        job_run              available   []     0\n\u001b[36;1m247e6bb2-ebea-4b1c-a952-b5d0dfaa04f6\u001b[0;22m   job run                                         2024-07-17T01:35:36.000Z                                                        job_run              available   []     0\n\u001b[36;1mc50abf29-f11f-4da6-84bd-2e197bb4bfd9\u001b[0;22m   job run                                         2024-07-17T03:30:42.000Z                                                        job_run              available   []     0\n\u001b[36;1m0374c750-44f2-402f-8e37-7c37e2493970\u001b[0;22m   job run                                         2024-07-17T05:59:59.000Z                                                        job_run              available   []     0\n\u001b[36;1m2508df28-e717-4dcc-ba06-062a45a867a6\u001b[0;22m   job run                                         2024-07-18T00:37:20.000Z                                                        job_run              available   []     0\n\u001b[36;1m0bc4908b-974d-47e4-9195-a7420c92cbfe\u001b[0;22m   job run                                         2024-07-18T00:41:37.000Z                                                        job_run              available   []     0\n\u001b[36;1mfd6b5321-5886-4acb-b59f-49112b3c17c6\u001b[0;22m   job run                                         2024-07-22T04:30:54.000Z   Initial run                                          job_run              available   []     0\n\u001b[36;1m98bb6748-ce5e-44b9-94a8-5b9fd69c4bbb\u001b[0;22m   DS_PC_EV_SEMEN_DELIVERIES.DataStage job         2024-06-27T08:42:26.000Z                                                        job                  available   []     0\n\u001b[36;1m0f15e454-61b0-431e-bc84-eeb656832077\u001b[0;22m   DS_SA_CFTPMTRANSPRECORD                         2024-06-28T18:44:54.000Z                                                        data_intg_flow       available   []     15739\n\u001b[36;1m1d14cf24-4ac7-4126-9100-9936580c37f4\u001b[0;22m   job run                                         2024-06-28T18:46:53.000Z                                                        job_run              available   []     0\n\u001b[36;1m95d213cf-17a4-4533-bdb7-79f55c1221ed\u001b[0;22m   DS_SA_CFTPSDETAILTYPE.DataStage job             2024-06-28T18:54:31.000Z                                                        job                  available   []     0\n\u001b[36;1m59125932-8cfc-46cc-a0ed-d9cdd48e1b08\u001b[0;22m   job run                                         2024-06-28T18:54:46.000Z                                                        job_run              available   []     0\n\u001b[36;1m30c34c1c-0043-4b91-86c8-46f0d23ec39a\u001b[0;22m   DS_SA_CFTDAYDEFINITION                          2024-06-28T19:01:21.000Z                                                        data_intg_flow       available   []     22879\n\u001b[36;1mc0d67802-e51e-4a56-82fc-7f6ce20e0ef6\u001b[0;22m   job run                                         2024-07-30T02:19:05.000Z                                                        job_run              available   []     0\n\u001b[36;1mc55e0733-e5ed-4245-b242-444f31eeedf6\u001b[0;22m   job run                                         2024-07-30T02:14:05.000Z                                                        job_run              available   []     0\n\u001b[36;1mee6a8621-620d-40f6-8baa-14a26215f695\u001b[0;22m   job run                                         2024-07-30T02:16:17.000Z                                                        job_run              available   []     0\n\u001b[36;1m592ddd94-4e8a-4319-9523-e3ceefc67a88\u001b[0;22m   job run                                         2024-07-30T02:28:19.000Z                                                        job_run              available   []     0\n\u001b[36;1mc500fae7-600d-417c-9fde-c3298a9b098a\u001b[0;22m   job run                                         2024-07-30T03:49:51.000Z                                                        job_run              available   []     0\n\u001b[36;1m0bab15df-9d3f-4882-afcd-df8bd55f1685\u001b[0;22m   DS_MF_CFT_ANIMALTAG_DELTA_INS                   2024-07-30T03:45:03.000Z   dbo.CFT_ANIMALTAG &amp;amp;amp;amp;amp;amp;amp;am\u2026   data_intg_flow       available   []     46038\n\u001b[36;1m9a9f68ba-a021-40ee-8aea-bea0681d50c7\u001b[0;22m   DS_MF_CFT_BCS_DELTA_INS                         2024-07-30T03:44:44.000Z   dbo.CFT_BCS &amp;amp;amp;amp;amp;amp;amp;amp;gt; \u2026   data_intg_flow       available   []     42673\n\u001b[36;1m17c6e54f-c999-4e14-84b6-d0ad977957b1\u001b[0;22m   job run                                         2024-07-30T03:50:46.000Z                                                        job_run              available   []     0\n\u001b[36;1m1eeaf302-c6cc-4d2d-840c-afea072d12cd\u001b[0;22m   job run                                         2024-07-30T04:03:30.000Z                                                        job_run              available   []     0\n\u001b[36;1me155f975-d1fe-4843-b6ab-7b9d7400bd58\u001b[0;22m   job run                                         2024-07-30T04:55:05.000Z                                                        job_run              available   []     0\n\u001b[36;1me74d635c-0196-4d3b-8baa-afb844311fa8\u001b[0;22m   job run                                         2024-07-30T05:01:48.000Z                                                        job_run              available   []     0\n\u001b[36;1m5a17a0a7-dcba-43c4-a279-6daa50438c77\u001b[0;22m   job run                                         2024-07-30T05:02:13.000Z                                                        job_run              available   []     0\n\u001b[36;1mffde8e85-c877-4e4f-af42-7b59631ff9fc\u001b[0;22m   job run                                         2024-07-30T05:03:44.000Z                                                        job_run              available   []     0\n\u001b[36;1m3f36a00f-edf9-45c9-b18c-8a1e970bfe71\u001b[0;22m   job run                                         2024-07-30T06:09:24.000Z                                                        job_run              available   []     0\n\u001b[36;1mcc03e593-edfa-4b44-a57a-54dce3a0c915\u001b[0;22m   job run                                         2024-07-30T05:57:07.000Z                                                        job_run              available   []     0\n\u001b[36;1m82f2cfb9-944e-45ac-a38f-aca23d5e16ae\u001b[0;22m   DS_MF_ARCHIVE_CFT_ANIMALEVENTS                  2024-04-29T23:53:45.000Z   archive.CFT_ANIMALEVENTS &amp;amp;amp;amp;amp;amp\u2026   data_intg_flow       available   []     60899\n\u001b[36;1m6f05239b-06e6-4615-aef8-572115534138\u001b[0;22m   job run                                         2024-07-30T06:18:03.000Z                                                        job_run              available   []     0\n\u001b[36;1m5d46f225-bddc-4967-a95f-46cb654d51fd\u001b[0;22m   job run                                         2024-07-30T05:57:07.000Z                                                        job_run              available   []     0\n\u001b[36;1m4bd84de9-06a8-4948-bc30-91bccd879fcf\u001b[0;22m   job run                                         2024-07-30T06:53:02.000Z                                                        job_run              available   []     0\n\u001b[36;1m2511a565-0428-4701-9f03-8a507070ba1e\u001b[0;22m   job run                                         2024-07-30T06:49:10.000Z                                                        job_run              available   []     0\r\n\u001b[36;1m26af3852-426d-4c3c-876d-047f92973963\u001b[0;22m   DS_PC_BH_IDENTITY_HISTORY.DataStage job         2024-07-18T00:36:27.000Z                                                        job                  available   []     0\r\n\u001b[36;1mf3dc3be5-943e-41bd-b06f-5bd473f0d631\u001b[0;22m   DS_PC_BH_IDENTITIES_DELTA                       2024-07-30T15:56:32.000Z   caredata.BH_IDENTITIES &amp;amp;amp;amp;amp;amp;a\u2026   data_intg_flow       available   []     36522\r\n\u001b[36;1m8e3e7260-57a4-48ba-b16a-c1524dc24155\u001b[0;22m   job run                                         2024-08-01T13:06:37.000Z                                                        job_run              available   []     0\r\n\u001b[36;1m5eae2764-98f3-42d6-ba9a-cfeb1537a7be\u001b[0;22m   job run                                         2024-08-01T13:37:21.000Z                                                        job_run              available   []     0\r\n\u001b[36;1mf116d839-5ce6-41cc-aad2-758515bb852c\u001b[0;22m   job run                                         2024-08-01T13:22:24.000Z   Initial run                                          job_run              available   []     0\r\n\u001b[36;1m2510cb1d-a195-464e-a371-753e736ad333\u001b[0;22m   job run                                         2024-08-01T13:22:29.000Z                                                        job_run              available   []     0\r\n\u001b[36;1mb6984870-4f49-49c7-a47d-015091071d24\u001b[0;22m   job run                                         2024-08-01T13:24:57.000Z                                                        job_run              available   []     0\r\n\u001b[36;1m8b5bd2f9-f86b-4c3b-8003-ac623b3465a9\u001b[0;22m   PIP_REPRO_DELTA                                 2024-08-01T18:13:59.000Z                                                        orchestration_flow   available   []     0\r\n\u001b[36;1mbee26d97-19e8-42fd-ad50-cb48a90833c1\u001b[0;22m   job run                                         2024-08-02T13:51:54.000Z                                                        job_run              available   []     0\r\n\u001b[36;1m5f686f8f-1fda-4fec-bca5-cb94cce9e6a5\u001b[0;22m   job run                                         2024-08-02T13:47:52.000Z                                                        job_run              available   []     0\r\n\u001b[36;1m628b293a-48c0-486f-a5ef-d912e5c2932a\u001b[0;22m   job run                                         2024-08-02T13:51:40.000Z                                                        job_run              available   []     0\r\n\u001b[36;1m251fd05f-77d0-414b-bb40-83bda711933d\u001b[0;22m   job run                                         2024-08-02T13:47:52.000Z                                                        job_run              available   []     0\r\n\u001b[36;1mfc2359b6-c0ed-4cdd-b163-9dc16f060e02\u001b[0;22m   job run                                         2024-08-02T14:03:51.000Z                                                        job_run              available   []     0\r\n\u001b[36;1mf5bd894d-1bfb-4050-8b5b-8d509034d560\u001b[0;22m   job run                                         2024-08-02T14:07:38.000Z                                                        job_run              available   []     0\r\n\u001b[36;1m7bba7788-5656-4ca5-a473-623bac97c3ff\u001b[0;22m   job run                                         2024-08-02T14:12:42.000Z                                                        job_run              available   []     0\r\n\u001b[36;1m75eadd7a-198b-4837-9ac7-bc0b4bd4bd14\u001b[0;22m   job run                                         2024-08-02T13:55:21.000Z                                                        job_run              available   []     0\r\n\u001b[36;1mece1db64-9498-4164-b743-cd3950dc8994\u001b[0;22m   job run                                         2024-08-02T13:54:13.000Z                                                        job_run              available   []     0\r\n\u001b[36;1mc594aebd-13c1-4fe0-8b38-c67ba6df78d2\u001b[0;22m   job run                                         2024-08-02T13:47:52.000Z                                                        job_run              available   []     0\r\n\u001b[36;1md75fb05e-cf85-4875-a615-1bc4e3320347\u001b[0;22m   job run                                         2024-08-02T14:10:32.000Z                                                        job_run              available   []     0\r\n\u001b[36;1mc3a4cdc8-8f54-4963-a542-e0119f24d09c\u001b[0;22m   job run                                         2024-08-02T14:14:30.000Z                                                        job_run              available   []     0\r\n\u001b[36;1m0a15025d-26aa-4a71-a18d-f4b4cec73b02\u001b[0;22m   job run                                         2024-08-02T13:47:37.000Z                                                        job_run              available   []     0\r\n\u001b[36;1m712c5495-b530-40ff-86d0-2b253db3b51c\u001b[0;22m   job run                                         2024-08-07T12:00:27.000Z                                                        job_run              available   []     0\r\n\u001b[36;1mc2b561bc-1b40-4a21-ab37-2efc3ea6414e\u001b[0;22m   job run                                         2024-08-07T12:04:29.000Z                                                        job_run              available   []     0\r\n\u001b[36;1m999284bd-cbaf-4737-a37b-4439a9904d49\u001b[0;22m   job run                                         2024-08-07T12:06:09.000Z                                                        job_run              available   []     0\r\n\u001b[36;1m20651cee-3e8c-454c-9756-1c8ba69bd176\u001b[0;22m   job run                                         2024-08-07T12:12:27.000Z                                                        job_run              available   []     0\r\n\u001b[36;1m0189ab1c-35ce-4183-93e2-c2d4da10e202\u001b[0;22m   job run                                         2024-08-07T12:17:22.000Z                                                        job_run              available   []     0\r\n\u001b[36;1m20efd4f2-4a2b-4c30-b648-168b2a71a656\u001b[0;22m   job run                                         2024-08-07T11:58:55.000Z   Initial run                                          job_run              available   []     0\r\n\u001b[36;1mb3a1f4f2-4ba8-44d9-b487-5faef521da64\u001b[0;22m   job run                                         2024-08-08T11:44:16.000Z                                                        job_run              available   []     0\r\n\u001b[36;1m181868ce-9450-4b51-b482-352bda0eb0fa\u001b[0;22m   DS_MF_CFT_ANIMALEVENTS_DUPETEST.DataStage job   2024-08-08T11:42:09.000Z                                                        job                  available   []     0\r\nNext token: 'g1AAAACqeJzLYWBgYMpgTmHQTklKzi9KdUhJMjTXS8rVTU7WTUlNyUxOLElNMTQw0kvOyS9NScwr0ctLLckBaUpyAJJJ9f___8_KYHKz__c_jgEkwMCg8BTNPFOizMtjAelvAFJAI_eDzHRg4DkAM3NnFgB9BzQF'\r\n"
                }
            ],
            "source": "! cpdctl asset search --project-id {PROJECT_ID} --type-name asset --query \"*:*\""
        },
        {
            "cell_type": "markdown",
            "metadata": {},
            "source": "### Download data asset"
        },
        {
            "cell_type": "markdown",
            "metadata": {},
            "source": "Get \"credit_risk_training.csv\" data asset ID"
        },
        {
            "cell_type": "code",
            "execution_count": 30,
            "metadata": {
                "id": "5f52b049-79fc-4d76-be40-1ff7145a1c35"
            },
            "outputs": [
                {
                    "name": "stdout",
                    "output_type": "stream",
                    "text": "'LOAD_PIGCHAMP ' data asset ID is: null\n"
                }
            ],
            "source": "result = ! cpdctl asset search --project-id {PROJECT_ID} --type-name data_asset --query \"asset.name:DS_PC_HDR_BOARS\" --output json --jmes-query \"results[0].metadata.asset_id\" --raw-output\nDATA_ASSET_ID = result.s\nprint(\"'LOAD_PIGCHAMP ' data asset ID is: {}\".format(DATA_ASSET_ID))"
        },
        {
            "cell_type": "markdown",
            "metadata": {},
            "source": "Download data asset"
        },
        {
            "cell_type": "code",
            "execution_count": 21,
            "metadata": {
                "id": "2d950254-ea4f-4b05-a88a-21b0ac7db6e2"
            },
            "outputs": [
                {
                    "name": "stdout",
                    "output_type": "stream",
                    "text": "...\n\u001b[1m\u001b[0m               \u001b[1m\u001b[0m   \n\u001b[36;1mID:\u001b[0m            edb6fe21-77c4-4cb3-aa6d-9e36d2b18edd   \n\u001b[36;1mName:\u001b[0m          credit_risk_training.csv   \n\u001b[36;1mCreated:\u001b[0m       2021-01-29T08:51:00.000Z   \n\u001b[36;1mDescription:\u001b[0m      \n\u001b[36;1mType:\u001b[0m          data_asset   \n\u001b[36;1mState:\u001b[0m         available   \n\u001b[36;1mTags:\u001b[0m          []   \n\u001b[36;1mSize:\u001b[0m          689622   \n\u001b[36;1mAttachments:\u001b[0m   \u001b[1mID\u001b[0m                                     \u001b[1mName\u001b[0m                       \u001b[1mType\u001b[0m         \u001b[1mMime Type\u001b[0m      \n\u001b[36;1m\u001b[0m               \u001b[36;1m0d7bc498-8913-4a53-91d3-b419e8ba070a\u001b[0m   credit_risk_training.csv   data_asset   text/csv      \n\u001b[36;1m\u001b[0m                  \n"
                }
            ],
            "source": "! cpdctl asset get --project-id {PROJECT_ID} --asset-id {DATA_ASSET_ID}"
        },
        {
            "cell_type": "code",
            "execution_count": 37,
            "metadata": {
                "id": "6bb5adfc-19c2-4686-be19-4a60a7a0a9e9"
            },
            "outputs": [
                {
                    "name": "stdout",
                    "output_type": "stream",
                    "text": "Data asset attachment ID is: 535ed8dd-8ea9-4dc7-b686-bb4e7d70192c\n"
                }
            ],
            "source": "result = ! cpdctl asset get --project-id {PROJECT_ID} --asset-id {DATA_ASSET_ID} --output json -j \"attachments[0].id\" --raw-output\nDATA_ATTACHMENT_ID = result.s\nprint(\"Data asset attachment ID is: {}\".format(DATA_ATTACHMENT_ID))"
        },
        {
            "cell_type": "code",
            "execution_count": 38,
            "metadata": {
                "id": "6e9297d9-19ff-4c1b-b7b6-cfea79aaee4c"
            },
            "outputs": [
                {
                    "name": "stdout",
                    "output_type": "stream",
                    "text": "...\n\u001b[32;1mOK\u001b[0m\nOutput written to credit_risk_training.csv\n"
                }
            ],
            "source": "! cpdctl asset attachment download --project-id {PROJECT_ID} --asset-id {DATA_ASSET_ID} --attachment-id {DATA_ATTACHMENT_ID} --output-file credit_risk_training.csv"
        },
        {
            "cell_type": "markdown",
            "metadata": {},
            "source": "### Upload a new data asset"
        },
        {
            "cell_type": "markdown",
            "metadata": {},
            "source": "Clean up the existing \"housing_data.csv\" data assets"
        },
        {
            "cell_type": "code",
            "execution_count": 22,
            "metadata": {
                "id": "69a0f29b-4822-4d64-b271-d8486d93db20"
            },
            "outputs": [],
            "source": "UPLOAD_DATASET_NAME = 'housing_data.csv'\nASSET_QUERY = \"asset.name:{}\".format(UPLOAD_DATASET_NAME)"
        },
        {
            "cell_type": "code",
            "execution_count": 25,
            "metadata": {
                "id": "189fec69-5431-4415-a0d8-0ef4345f03b5"
            },
            "outputs": [],
            "source": "result = ! cpdctl asset search --project-id {PROJECT_ID} --type-name data_asset --query \"{ASSET_QUERY}\" --output json --jmes-query \"results[*].metadata.asset_id\" --raw-output\nDATA_ASSET_IDS = json.loads(result.s)\nfor data_asset_id in DATA_ASSET_IDS:\n    print(\"Deleteing data asset with ID: {}\".format(data_asset_id))\n    ! cpdctl asset delete --project-id {PROJECT_ID} --asset-id {data_asset_id}"
        },
        {
            "cell_type": "markdown",
            "metadata": {},
            "source": "Download the full training set from github "
        },
        {
            "cell_type": "code",
            "execution_count": 26,
            "metadata": {
                "id": "9a9fcb2a-1d69-432a-bb23-9df26fbf03a1"
            },
            "outputs": [
                {
                    "name": "stdout",
                    "output_type": "stream",
                    "text": "  % Total    % Received % Xferd  Average Speed   Time    Time     Time  Current\n                                 Dload  Upload   Total   Spent    Left  Speed\n100 41399  100 41399    0     0   117k      0 --:--:-- --:--:-- --:--:--  117k\n     507 housing_data.csv\n"
                }
            ],
            "source": "! curl https://raw.githubusercontent.com/pmservice/wml-sample-models/master/scikit-learn/boston/data/housing_data.csv -o {UPLOAD_DATASET_NAME}\n! wc -l {UPLOAD_DATASET_NAME}"
        },
        {
            "cell_type": "markdown",
            "metadata": {},
            "source": "Create a new data asset in the project from the downloaded file"
        },
        {
            "cell_type": "code",
            "execution_count": 27,
            "metadata": {
                "id": "50118e8d-15c6-45e7-bc16-cc942f0029a1",
                "scrolled": true
            },
            "outputs": [
                {
                    "name": "stdout",
                    "output_type": "stream",
                    "text": "...\n40.65 KiB / 40.43 KiB [---------------------------------------] 100.54% ? p/s 0s\n\u001b[1m\u001b[0m               \u001b[1m\u001b[0m   \n\u001b[36;1mID:\u001b[0m            17ebcd96-588e-4287-9cb9-eb4608a4693e   \n\u001b[36;1mName:\u001b[0m          housing_data.csv   \n\u001b[36;1mCreated:\u001b[0m       2021-01-29T10:20:26.000Z   \n\u001b[36;1mDescription:\u001b[0m      \n\u001b[36;1mType:\u001b[0m          data_asset   \n\u001b[36;1mState:\u001b[0m         available   \n\u001b[36;1mTags:\u001b[0m          [cpdctl-demo]   \n\u001b[36;1mSize:\u001b[0m          41399   \n\u001b[36;1mAttachments:\u001b[0m   \u001b[1mID\u001b[0m                                     \u001b[1mName\u001b[0m               \u001b[1mType\u001b[0m         \u001b[1mMime Type\u001b[0m      \n\u001b[36;1m\u001b[0m               \u001b[36;1m7f6c9650-36e5-414e-9620-8e8f0bf90c71\u001b[0m   housing_data.csv   data_asset   text/csv      \n\u001b[36;1m\u001b[0m                  \n"
                }
            ],
            "source": "! cpdctl asset data-asset upload --file {UPLOAD_DATASET_NAME} --project-id {PROJECT_ID} --progress true --tag \"cpdctl-demo\" --mime \"text/csv\"\n"
        },
        {
            "cell_type": "code",
            "execution_count": 28,
            "metadata": {
                "id": "d97de1ac-3d64-4cf0-8cbd-8bc37ed34e13"
            },
            "outputs": [
                {
                    "name": "stdout",
                    "output_type": "stream",
                    "text": "'housing_data.csv' data asset ID is: edb6fe21-77c4-4cb3-aa6d-9e36d2b18edd\n"
                }
            ],
            "source": "result = ! cpdctl asset search --project-id {PROJECT_ID} --type-name data_asset --query \"asset.name:credit_risk_training.csv\" --output json --jmes-query \"results[0].metadata.asset_id\" --raw-output\nNEW_DATA_ASSET_ID = result.s\nprint(\"'{}' data asset ID is: {}\".format(UPLOAD_DATASET_NAME, NEW_DATA_ASSET_ID))"
        },
        {
            "cell_type": "code",
            "execution_count": 29,
            "metadata": {
                "id": "ec22ba76-061b-4280-aeab-1ba87a02adb9"
            },
            "outputs": [
                {
                    "name": "stdout",
                    "output_type": "stream",
                    "text": "...\n\u001b[1mID\u001b[0m                                     \u001b[1mName\u001b[0m                           \u001b[1mCreated\u001b[0m                    \u001b[1mDescription\u001b[0m   \u001b[1mType\u001b[0m         \u001b[1mState\u001b[0m       \u001b[1mTags\u001b[0m            \u001b[1mSize\u001b[0m   \n\u001b[36;1m8a8c8daa-f6eb-4e2b-9526-b6f13a457785\u001b[0m   car_rental_training_data.csv   2021-01-29T08:54:47.000Z                 data_asset   available   [cpdctl-demo]   79518   \n\u001b[36;1m17ebcd96-588e-4287-9cb9-eb4608a4693e\u001b[0m   housing_data.csv               2021-01-29T10:20:26.000Z                 data_asset   available   [cpdctl-demo]   41399   \n\u001b[36;1medb6fe21-77c4-4cb3-aa6d-9e36d2b18edd\u001b[0m   credit_risk_training.csv       2021-01-29T08:51:00.000Z                 data_asset   available   []              689622   \n"
                }
            ],
            "source": "! cpdctl asset search --project-id {PROJECT_ID} --type-name data_asset --query \"*:*\""
        },
        {
            "cell_type": "markdown",
            "metadata": {},
            "source": "Export all assets from the selected project"
        },
        {
            "cell_type": "code",
            "execution_count": 31,
            "metadata": {
                "id": "fe087267-016a-4889-8df6-70dc88b4e07b"
            },
            "outputs": [
                {
                    "name": "stdout",
                    "output_type": "stream",
                    "text": "Export ID: FAILED Export cec205b5-3457-4644-bd7e-3a011dad7a7a failed: [unknown_error] The value of \"value\" is out of range. It must be >= 0 and <= 65535. Received 68084 \n"
                }
            ],
            "source": "EXPORT = {\n    'all_assets': True\n}\nEXPORT_JSON = json.dumps(EXPORT)\nresult = ! cpdctl asset export start --project-id {PROJECT_ID} --assets '{EXPORT_JSON}' --name demo-project-assets --output json --jmes-query \"metadata.id\" --raw-output\nEXPORT_ID = result.s\nprint('Export ID: {}'.format(EXPORT_ID))"
        },
        {
            "cell_type": "code",
            "execution_count": 33,
            "metadata": {
                "id": "0bdf6340-d0fd-4b15-893e-26e6f1dc87f8"
            },
            "outputs": [
                {
                    "name": "stdout",
                    "output_type": "stream",
                    "text": "...\n\u001b[32;1mOK\u001b[0m\nOutput written to project-assets.zip\n"
                }
            ],
            "source": "! cpdctl asset export download --project-id {PROJECT_ID} --export-id {EXPORT_ID} --output-file project-assets.zip --progress"
        },
        {
            "cell_type": "code",
            "execution_count": 34,
            "metadata": {
                "id": "f0ce8216-7109-48ec-9f74-22be0e6d445d"
            },
            "outputs": [
                {
                    "name": "stdout",
                    "output_type": "stream",
                    "text": "Archive:  project-assets.zip\r\n  Length      Date    Time    Name\r\n---------  ---------- -----   ----\r\n      358  01-29-2021 10:23   project.json\r\n       44  01-29-2021 10:23   deflate.log\r\n      416  01-29-2021 10:23   assettypes/folder_asset.json\r\n      988  01-29-2021 10:23   assettypes/column_info.json\r\n      234  01-29-2021 10:23   assettypes/policy_transform.json\r\n      543  01-29-2021 10:23   assettypes/asset_terms.json\r\n      459  01-29-2021 10:23   assettypes/omrs_relationship_message.json\r\n      288  01-29-2021 10:23   assettypes/package_extension.json\r\n      526  01-29-2021 10:23   assettypes/environment.json\r\n      465  01-29-2021 10:23   assettypes/connection_credentials.json\r\n      311  01-29-2021 10:23   assettypes/shiny_asset.json\r\n     1442  01-29-2021 10:23   assettypes/job_run.json\r\n    38778  01-29-2021 10:23   assettypes/wml_model.json\r\n     2528  01-29-2021 10:23   assettypes/wml_remote_training_system.json\r\n    27504  01-29-2021 10:23   assettypes/wml_training_definition.json\r\n      513  01-29-2021 10:23   assettypes/software_specification.json\r\n      477  01-29-2021 10:23   assettypes/notebook.json\r\n      327  01-29-2021 10:23   assettypes/omrs_entity.json\r\n      462  01-29-2021 10:23   assettypes/omrs_relationship.json\r\n      452  01-29-2021 10:23   assettypes/data_asset.json\r\n     1026  01-29-2021 10:23   assettypes/hardware_specification.json\r\n      309  01-29-2021 10:23   assettypes/connection.json\r\n     1038  01-29-2021 10:23   assettypes/job.json\r\n    43368  01-29-2021 10:23   assettypes/wml_pipeline.json\r\n     2846  01-29-2021 10:23   assettypes/wml_model_definition.json\r\n    12964  01-29-2021 10:23   assettypes/wml_experiment.json\r\n    16556  01-29-2021 10:23   assettypes/wml_function.json\r\n    40733  01-29-2021 10:23   assettypes/wml_deployment_job_definition.json\r\n      389  01-29-2021 10:23   assettypes/script.json\r\n      189  01-29-2021 10:23   assettypes/data_flow.json\r\n      208  01-29-2021 10:23   assettypes/datasource_type.json\r\n    79518  01-29-2021 08:54   assets/76cd0e62-8c46-4ffd-bcc5-6eb1f3bc76c7/8a8c8daa-f6eb-4e2b-9526-b6f13a457785/8c197d6a-ae23-4d30-a8be-0c4ad68e1be3\r\n     1291  01-29-2021 10:23   assets/.METADATA/data_asset.8a8c8daa-f6eb-4e2b-9526-b6f13a457785.json\r\n    41399  01-29-2021 10:20   assets/76cd0e62-8c46-4ffd-bcc5-6eb1f3bc76c7/17ebcd96-588e-4287-9cb9-eb4608a4693e/7f6c9650-36e5-414e-9620-8e8f0bf90c71\r\n     1267  01-29-2021 10:23   assets/.METADATA/data_asset.17ebcd96-588e-4287-9cb9-eb4608a4693e.json\r\n     1227  01-29-2021 10:23   assets/.METADATA/data_asset.edb6fe21-77c4-4cb3-aa6d-9e36d2b18edd.json\r\n   689622  01-29-2021 08:50   assets/data_asset/credit_risk_training.csv\r\n---------                     -------\r\n  1011065                     37 files\r\n"
                }
            ],
            "source": "! unzip -l project-assets.zip"
        },
        {
            "cell_type": "markdown",
            "metadata": {},
            "source": "### Create a new project from backup"
        },
        {
            "cell_type": "markdown",
            "metadata": {},
            "source": "Ensure there is no restored project"
        },
        {
            "cell_type": "code",
            "execution_count": 12,
            "metadata": {
                "id": "23734cd5-7631-42de-917e-f13a4c374b44"
            },
            "outputs": [],
            "source": "RESTORED_PROJECT_NAME = 'cpdctl-demo-restored-project'"
        },
        {
            "cell_type": "code",
            "execution_count": 31,
            "metadata": {
                "id": "e2e39044-ab45-4df8-a2b2-23ddbab13ef2"
            },
            "outputs": [],
            "source": "JMES_QUERY = \"resources[?entity.name == '{}'].metadata.guid\".format(RESTORED_PROJECT_NAME)\nresult = ! cpdctl project list --output json --jmes-query \"{JMES_QUERY}\"\nPROJECT_IDS = json.loads(result.s)\nif PROJECT_IDS:\n    for project_id in PROJECT_IDS:\n        print('Deleting project with ID: {}'.format(project_id))\n        ! cpdctl project delete --project-id {project_id}"
        },
        {
            "cell_type": "code",
            "execution_count": 19,
            "metadata": {
                "id": "5a5a50db-5657-4dfc-b26b-a7b3d66ba7a4"
            },
            "outputs": [
                {
                    "name": "stdout",
                    "output_type": "stream",
                    "text": "{\r\n  \"resources\": [\r\n    {\r\n      \"entity\": {\r\n        \"creator\": \"demouser\",\r\n        \"creator_iam_id\": \"1000331004\",\r\n        \"name\": \"cpdctl-demo-restored-project\",\r\n        \"public\": false,\r\n        \"scope\": {\r\n          \"bss_account_id\": \"999\",\r\n          \"enforce_members\": true\r\n        },\r\n        \"storage\": {\r\n          \"guid\": \"dcb94a38-4356-424f-9fa0-3e5b34c648ed\",\r\n          \"type\": \"assetfiles\"\r\n        }\r\n      },\r\n      \"metadata\": {\r\n        \"created_at\": \"2021-01-29T10:30:12.419Z\",\r\n        \"guid\": \"26ec966c-5fd6-4d28-bd32-5ab0aa3fc51e\",\r\n        \"updated_at\": \"2021-01-29T10:30:14.083Z\",\r\n        \"url\": \"/v2/projects/26ec966c-5fd6-4d28-bd32-5ab0aa3fc51e\"\r\n      }\r\n    },\r\n    {\r\n      \"entity\": {\r\n        \"creator\": \"demouser\",\r\n        \"creator_iam_id\": \"1000331004\",\r\n        \"description\": \"\",\r\n        \"name\": \"cpdctl-samples\",\r\n        \"public\": false,\r\n        \"scope\": {\r\n          \"bss_account_id\": \"999\",\r\n          \"enforce_members\": true\r\n        },\r\n        \"storage\": {\r\n          \"guid\": \"4502095b-b79a-41fc-af23-4be3d46583c5\",\r\n          \"type\": \"assetfiles\"\r\n        }\r\n      },\r\n      \"metadata\": {\r\n        \"created_at\": \"2021-01-30T12:26:22.978Z\",\r\n        \"guid\": \"40dd7006-d289-4e7c-8a1f-560a4f3459c0\",\r\n        \"updated_at\": \"2021-01-30T12:26:24.789Z\",\r\n        \"url\": \"/v2/projects/40dd7006-d289-4e7c-8a1f-560a4f3459c0\"\r\n      }\r\n    },\r\n    {\r\n      \"entity\": {\r\n        \"creator\": \"demouser\",\r\n        \"creator_iam_id\": \"1000331004\",\r\n        \"description\": \"\",\r\n        \"name\": \"cpdctl-demo\",\r\n        \"public\": false,\r\n        \"scope\": {\r\n          \"bss_account_id\": \"999\",\r\n          \"enforce_members\": true\r\n        },\r\n        \"storage\": {\r\n          \"guid\": \"95590fa0-1246-499d-84a8-7cb030d14112\",\r\n          \"type\": \"assetfiles\"\r\n        }\r\n      },\r\n      \"metadata\": {\r\n        \"created_at\": \"2021-01-29T08:01:23.363Z\",\r\n        \"guid\": \"7fb76cf7-25be-435d-818e-bd6e9b5254f5\",\r\n        \"updated_at\": \"2021-01-29T08:01:27.103Z\",\r\n        \"url\": \"/v2/projects/7fb76cf7-25be-435d-818e-bd6e9b5254f5\"\r\n      }\r\n    }\r\n  ],\r\n  \"total_results\": 3\r\n}\r\n"
                }
            ],
            "source": "! cpdctl project list --output json"
        },
        {
            "cell_type": "markdown",
            "metadata": {},
            "source": "Create a new project"
        },
        {
            "cell_type": "code",
            "execution_count": 44,
            "metadata": {
                "id": "40170955-98a6-4f3f-a2f1-9bc81fd71161"
            },
            "outputs": [
                {
                    "name": "stdout",
                    "output_type": "stream",
                    "text": "The new 'cpdctl-demo-restored-project' project ID is: 26ec966c-5fd6-4d28-bd32-5ab0aa3fc51e\n"
                }
            ],
            "source": "import uuid\nSTORAGE = {\"type\": \"assetfiles\", \"guid\": str(uuid.uuid4())}\nSTORAGE_JSON = json.dumps(STORAGE)\nresult = ! cpdctl project create --name {RESTORED_PROJECT_NAME} --output json --raw-output --storage '{STORAGE_JSON}' --jmes-query 'location'\nRESTORED_PROJECT_ID = result.s.split('/')[-1]\nprint(\"The new '{}' project ID is: {}\".format(RESTORED_PROJECT_NAME, RESTORED_PROJECT_ID))"
        },
        {
            "cell_type": "code",
            "execution_count": 45,
            "metadata": {
                "id": "e059537e-79d4-4789-92bc-b603144081c1"
            },
            "outputs": [
                {
                    "name": "stdout",
                    "output_type": "stream",
                    "text": "The new import ID is: 1696b550-0415-42d8-a494-1ff2283d7f2f\n"
                }
            ],
            "source": "result = ! cpdctl asset import start --project-id {RESTORED_PROJECT_ID} --import-file project-assets.zip --output json --jmes-query \"metadata.id\" --raw-output\nIMPORT_ID = result.s\nprint(\"The new import ID is: {}\".format(IMPORT_ID))"
        },
        {
            "cell_type": "code",
            "execution_count": 46,
            "metadata": {
                "id": "fcf0eb15-b3de-48fc-87d4-e8d349c69da6"
            },
            "outputs": [
                {
                    "name": "stdout",
                    "output_type": "stream",
                    "text": "...\n\u001b[1m\u001b[0m           \u001b[1m\u001b[0m   \n\u001b[36;1mID:\u001b[0m        1696b550-0415-42d8-a494-1ff2283d7f2f   \n\u001b[36;1mCreated:\u001b[0m   2021-01-29T10:30:39.607Z   \n\u001b[36;1mState:\u001b[0m     completed   \n"
                }
            ],
            "source": "! cpdctl asset import get --project-id {RESTORED_PROJECT_ID} --import-id {IMPORT_ID}"
        },
        {
            "cell_type": "code",
            "execution_count": 47,
            "metadata": {
                "id": "b9096f33-17ac-4d49-a928-b4a90dfe6723"
            },
            "outputs": [
                {
                    "name": "stdout",
                    "output_type": "stream",
                    "text": "...\n\u001b[1mID\u001b[0m                                     \u001b[1mName\u001b[0m                           \u001b[1mCreated\u001b[0m                    \u001b[1mDescription\u001b[0m   \u001b[1mType\u001b[0m         \u001b[1mState\u001b[0m       \u001b[1mTags\u001b[0m            \u001b[1mSize\u001b[0m   \n\u001b[36;1m3c7ef01c-d5df-4b9a-8bd5-120c917a2928\u001b[0m   housing_data.csv               2021-01-29T10:30:43.000Z                 data_asset   available   [cpdctl-demo]   41399   \n\u001b[36;1mc59be03f-4867-4281-a493-47f36a6e5291\u001b[0m   credit_risk_training.csv       2021-01-29T10:30:44.000Z                 data_asset   available   []              689622   \n\u001b[36;1m5d7aa59f-2202-465c-8276-906a5c90d16f\u001b[0m   car_rental_training_data.csv   2021-01-29T10:30:43.000Z                 data_asset   available   [cpdctl-demo]   79518   \n"
                }
            ],
            "source": "! cpdctl asset search --query '*:*' --type-name asset --project-id {RESTORED_PROJECT_ID}"
        },
        {
            "cell_type": "markdown",
            "metadata": {},
            "source": "### Author\n\nRafa\u0142 Bigaj, System Architect with long successful record of building and leading teams. Broad and practical knowledge in the area of cloud computing, machine learning and distributed systems development. "
        },
        {
            "cell_type": "markdown",
            "metadata": {},
            "source": "Copyright \u00a9 2020 IBM. This notebook and its source code are released under the terms of the MIT License."
        }
    ],
    "metadata": {
        "kernelspec": {
            "display_name": "Python 3.11",
            "language": "python",
            "name": "python3"
        },
        "language_info": {
            "codemirror_mode": {
                "name": "ipython",
                "version": 3
            },
            "file_extension": ".py",
            "mimetype": "text/x-python",
            "name": "python",
            "nbconvert_exporter": "python",
            "pygments_lexer": "ipython3",
            "version": "3.11.9"
        }
    },
    "nbformat": 4,
    "nbformat_minor": 4
}